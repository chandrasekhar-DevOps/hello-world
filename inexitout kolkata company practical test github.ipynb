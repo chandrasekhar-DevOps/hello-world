{
 "cells": [
  {
   "cell_type": "code",
   "execution_count": 1,
   "id": "fca4e5a2",
   "metadata": {},
   "outputs": [
    {
     "name": "stdout",
     "output_type": "stream",
     "text": [
      "[0]\n",
      "[0, 1]\n",
      "[0, 1, 2]\n"
     ]
    }
   ],
   "source": [
    "def fool(i, x=[]):\n",
    "    x.append(i)\n",
    "    return x\n",
    "for i in range(3):\n",
    "    print(fool(i))"
   ]
  },
  {
   "cell_type": "code",
   "execution_count": 4,
   "id": "8dd8e4f8",
   "metadata": {},
   "outputs": [
    {
     "name": "stdout",
     "output_type": "stream",
     "text": [
      "1\n"
     ]
    }
   ],
   "source": [
    "def fool():\n",
    "    return total + 1\n",
    "total = 0\n",
    "print(fool())\n"
   ]
  },
  {
   "cell_type": "code",
   "execution_count": 2,
   "id": "4098e1f0",
   "metadata": {},
   "outputs": [
    {
     "name": "stdout",
     "output_type": "stream",
     "text": [
      "1\n"
     ]
    }
   ],
   "source": [
    "\n",
    "def fool1():\n",
    "    total1 = 0\n",
    "    total1 += 1\n",
    "    return total1 \n",
    "total1 = 0\n",
    "print(fool1())"
   ]
  },
  {
   "cell_type": "code",
   "execution_count": 10,
   "id": "7a550c35",
   "metadata": {},
   "outputs": [
    {
     "name": "stdout",
     "output_type": "stream",
     "text": [
      "[3, 5, 6, 3, 12]\n",
      "[3, 2, 5, 4, 6, 4, 3, 8, 12, 5]\n",
      "[6, 12]\n"
     ]
    }
   ],
   "source": [
    "my_list = [1,3,2,5,4,6,4,3,8,12,5]\n",
    "\n",
    "print([x for x in my_list[1::2]])\n",
    "print([x for x in my_list[1::1]])\n",
    "       \n",
    "print([x for x in my_list[1::2] if x%2 == 0])"
   ]
  },
  {
   "cell_type": "code",
   "execution_count": 17,
   "id": "9ebecbb8",
   "metadata": {},
   "outputs": [
    {
     "data": {
      "text/html": [
       "<div>\n",
       "<style scoped>\n",
       "    .dataframe tbody tr th:only-of-type {\n",
       "        vertical-align: middle;\n",
       "    }\n",
       "\n",
       "    .dataframe tbody tr th {\n",
       "        vertical-align: top;\n",
       "    }\n",
       "\n",
       "    .dataframe thead th {\n",
       "        text-align: right;\n",
       "    }\n",
       "</style>\n",
       "<table border=\"1\" class=\"dataframe\">\n",
       "  <thead>\n",
       "    <tr style=\"text-align: right;\">\n",
       "      <th></th>\n",
       "      <th>city</th>\n",
       "    </tr>\n",
       "    <tr>\n",
       "      <th>age</th>\n",
       "      <th></th>\n",
       "    </tr>\n",
       "  </thead>\n",
       "  <tbody>\n",
       "    <tr>\n",
       "      <th>10</th>\n",
       "      <td>Gurgon</td>\n",
       "    </tr>\n",
       "    <tr>\n",
       "      <th>22</th>\n",
       "      <td>Delhi</td>\n",
       "    </tr>\n",
       "    <tr>\n",
       "      <th>13</th>\n",
       "      <td>Mumbai</td>\n",
       "    </tr>\n",
       "    <tr>\n",
       "      <th>21</th>\n",
       "      <td>Delhi</td>\n",
       "    </tr>\n",
       "    <tr>\n",
       "      <th>12</th>\n",
       "      <td>Mumbai</td>\n",
       "    </tr>\n",
       "  </tbody>\n",
       "</table>\n",
       "</div>"
      ],
      "text/plain": [
       "       city\n",
       "age        \n",
       "10   Gurgon\n",
       "22    Delhi\n",
       "13   Mumbai\n",
       "21    Delhi\n",
       "12   Mumbai"
      ]
     },
     "execution_count": 17,
     "metadata": {},
     "output_type": "execute_result"
    }
   ],
   "source": [
    "import pandas as pd\n",
    "df = pd.DataFrame({'age':[10,22,13,21,12,11,17] ,\n",
    "                  'city':['Gurgon', 'Delhi', 'Mumbai', 'Delhi', 'Mumbai', 'delhi', 'Mumbai']})\n",
    "\n",
    "df.set_index(\"age\", inplace = True)\n",
    "\n",
    "\"\"\"\n",
    "for i in df.index:\n",
    "    print(i, int(i))\n",
    "    print(int(i)%2)\n",
    "    if int(i)%2 == True:\n",
    "        print(df.loc[i]['city'])\n",
    "\n",
    "\"\"\"\n",
    "df.head()\n"
   ]
  },
  {
   "cell_type": "code",
   "execution_count": 19,
   "id": "7dd1ea15",
   "metadata": {},
   "outputs": [
    {
     "name": "stdout",
     "output_type": "stream",
     "text": [
      "[('A', 1), ('B', 2), ('C', 3)]\n",
      "[('A', 1), ('B', 2), ('C', 3)]\n"
     ]
    }
   ],
   "source": [
    "List1 =['A','B','C']\n",
    "List2 = [1,2,3]\n",
    "list3 = list(zip(List1, List2))\n",
    "print(list3)\n",
    "list4 = zip(List1, List2)\n",
    "print(list(list4))"
   ]
  },
  {
   "cell_type": "code",
   "execution_count": 28,
   "id": "c90d583f",
   "metadata": {},
   "outputs": [
    {
     "name": "stdout",
     "output_type": "stream",
     "text": [
      "[]\n",
      "<generator object <genexpr> at 0x00000227BD194900>\n",
      "range(0, 3)\n",
      "0\n",
      "1\n",
      "2\n"
     ]
    }
   ],
   "source": [
    "A = dict(zip(('a', 'b', 'c', 'd', 'e'), (1,2,3,4,5)))\n",
    "B =range(3)\n",
    "C = sorted([i for i in B if i in A])\n",
    "print(list(C))\n",
    "print(i for i in B )\n",
    "print(B)\n",
    "\n",
    "for i in B:\n",
    "    print(i)\n",
    "    "
   ]
  },
  {
   "cell_type": "code",
   "execution_count": 31,
   "id": "233a1af4",
   "metadata": {},
   "outputs": [
    {
     "name": "stdout",
     "output_type": "stream",
     "text": [
      "0     0.5\n",
      "1    10.5\n",
      "2    20.5\n",
      "3    30.5\n",
      "dtype: float64\n"
     ]
    }
   ],
   "source": [
    "import pandas as pd\n",
    "import numpy as np\n",
    "seriesA = pd.Series([0,10,20,30])\n",
    "seriesB = pd.Series([1,11,21,31])\n",
    "SeriesC = (seriesA+seriesB)/2\n",
    "print(SeriesC)\n"
   ]
  },
  {
   "cell_type": "code",
   "execution_count": 31,
   "id": "3c0a58ca",
   "metadata": {},
   "outputs": [
    {
     "name": "stdout",
     "output_type": "stream",
     "text": [
      "12\n"
     ]
    }
   ],
   "source": [
    "d = lambda p: p*2\n",
    "t = lambda p: p*3\n",
    "x=2\n",
    "x=d(x)\n",
    "x=t(x)\n",
    "x=d(x)\n",
    "print(x)"
   ]
  },
  {
   "cell_type": "code",
   "execution_count": 36,
   "id": "c4649299",
   "metadata": {},
   "outputs": [
    {
     "name": "stdout",
     "output_type": "stream",
     "text": [
      "2\n",
      "4\n"
     ]
    }
   ],
   "source": [
    "conf = {}\n",
    "conf[1] = 1\n",
    "conf['1'] =2\n",
    "conf[1]+=1\n",
    "sum=0\n",
    "for k in list(conf.keys()):\n",
    "    sum+=conf[k]\n",
    "    print(sum)"
   ]
  },
  {
   "cell_type": "code",
   "execution_count": 11,
   "id": "740a712c",
   "metadata": {},
   "outputs": [
    {
     "name": "stdout",
     "output_type": "stream",
     "text": [
      "[1, 2, 3, 5, 6, 7, 8]\n",
      "[1, 2, 3, 5, 6, 7, 8, [5, 6, 7, 8]]\n"
     ]
    }
   ],
   "source": [
    "X = [1,2,3]\n",
    "Y = [5,6,7,8]\n",
    "X.extend(Y)\n",
    "print(X)\n",
    "X.append(Y)\n",
    "print(X)"
   ]
  },
  {
   "cell_type": "code",
   "execution_count": 40,
   "id": "86f623bb",
   "metadata": {},
   "outputs": [
    {
     "name": "stdout",
     "output_type": "stream",
     "text": [
      "city  Delhi  Gurgon  Kolatta  Mumbai  delhi\n",
      "age      21      10       12      13     11\n"
     ]
    }
   ],
   "source": [
    "import pandas as pd\n",
    "df = pd.DataFrame({'age':[10,22,13,21,12,11,17] ,\n",
    "                  'city':['Gurgon', None, 'Mumbai', 'Delhi', None, 'delhi', 'Mumbai']})\n",
    "\n",
    "output = pd.DataFrame((df.fillna('Kolatta').groupby('city').min()).T)\n",
    "print(output)"
   ]
  },
  {
   "cell_type": "code",
   "execution_count": 16,
   "id": "e0ff8d7c",
   "metadata": {},
   "outputs": [
    {
     "name": "stdout",
     "output_type": "stream",
     "text": [
      "E\n",
      "SALT LAKE\n",
      "L\n",
      "SEZ\n"
     ]
    }
   ],
   "source": [
    "names = [\"IXO\", \"KOLKATA\", \"SALT LAKE\", \"SEZ\"]\n",
    "print(names[-1][-2])\n",
    "print(names[-2])\n",
    "print(names[2][2])\n",
    "print(names[-1])"
   ]
  },
  {
   "cell_type": "code",
   "execution_count": 18,
   "id": "e37a484c",
   "metadata": {},
   "outputs": [
    {
     "name": "stdout",
     "output_type": "stream",
     "text": [
      "['L', 'A', 'K']\n",
      "{'A', 'K', 'T', 'L', 'O'}\n",
      "{'L', 'A', 'E', 'K'}\n",
      "L\n",
      "A\n",
      "K\n"
     ]
    }
   ],
   "source": [
    "S1 = \"KOLKATA\"\n",
    "S2 = \"LAKE\"\n",
    "temp = list(set(S1)&set(S2))\n",
    "print(temp)\n",
    "print(set(S1))\n",
    "print(set(S2))\n",
    "for iNav in temp:\n",
    "    print(iNav)"
   ]
  },
  {
   "cell_type": "code",
   "execution_count": 45,
   "id": "34d221f0",
   "metadata": {},
   "outputs": [],
   "source": [
    "a = [3,4,5]\n",
    "b = [6,1,2]\n",
    "\n"
   ]
  },
  {
   "cell_type": "code",
   "execution_count": 53,
   "id": "d0bcb42f",
   "metadata": {},
   "outputs": [
    {
     "name": "stdout",
     "output_type": "stream",
     "text": [
      "   a  b  c\n",
      "0  3  5  6\n",
      "1  3  1  5\n",
      "2  5  4  1\n",
      "   a  b  c\n",
      "0  3  5  6\n",
      "1  3  1  5\n",
      "2  5  4  1\n",
      "   a  b  c\n",
      "0  3  5  6\n",
      "1  3  1  5\n",
      "2  5  4  1\n"
     ]
    },
    {
     "ename": "TypeError",
     "evalue": "'function' object is not iterable",
     "output_type": "error",
     "traceback": [
      "\u001b[1;31m---------------------------------------------------------------------------\u001b[0m",
      "\u001b[1;31mTypeError\u001b[0m                                 Traceback (most recent call last)",
      "\u001b[1;32m<ipython-input-53-3fbe79cc2a1a>\u001b[0m in \u001b[0;36m<module>\u001b[1;34m\u001b[0m\n\u001b[0;32m      5\u001b[0m \u001b[0mdf\u001b[0m\u001b[1;33m[\u001b[0m\u001b[0mdf\u001b[0m\u001b[1;33m.\u001b[0m\u001b[0mapply\u001b[0m\u001b[1;33m(\u001b[0m\u001b[1;32mlambda\u001b[0m \u001b[0mx\u001b[0m\u001b[1;33m:\u001b[0m\u001b[0mx\u001b[0m\u001b[1;33m%\u001b[0m\u001b[1;36m2\u001b[0m \u001b[1;33m==\u001b[0m \u001b[1;36m1\u001b[0m\u001b[1;33m)\u001b[0m\u001b[1;33m]\u001b[0m\u001b[1;33m.\u001b[0m\u001b[0msum\u001b[0m\u001b[1;33m(\u001b[0m\u001b[0maxis\u001b[0m\u001b[1;33m=\u001b[0m\u001b[1;36m1\u001b[0m\u001b[1;33m)\u001b[0m\u001b[1;33m\u001b[0m\u001b[1;33m\u001b[0m\u001b[0m\n\u001b[0;32m      6\u001b[0m \u001b[0mprint\u001b[0m\u001b[1;33m(\u001b[0m\u001b[0mdf\u001b[0m\u001b[1;33m)\u001b[0m\u001b[1;33m\u001b[0m\u001b[1;33m\u001b[0m\u001b[0m\n\u001b[1;32m----> 7\u001b[1;33m \u001b[0mdf\u001b[0m\u001b[1;33m.\u001b[0m\u001b[0mfilter\u001b[0m\u001b[1;33m(\u001b[0m\u001b[1;32mlambda\u001b[0m \u001b[0mx\u001b[0m\u001b[1;33m:\u001b[0m\u001b[0mx\u001b[0m\u001b[1;33m%\u001b[0m\u001b[1;36m2\u001b[0m\u001b[1;33m==\u001b[0m\u001b[1;36m0\u001b[0m\u001b[1;33m)\u001b[0m\u001b[1;33m.\u001b[0m\u001b[0msum\u001b[0m\u001b[1;33m(\u001b[0m\u001b[0maxis\u001b[0m\u001b[1;33m=\u001b[0m\u001b[1;36m0\u001b[0m\u001b[1;33m)\u001b[0m\u001b[1;33m\u001b[0m\u001b[1;33m\u001b[0m\u001b[0m\n\u001b[0m\u001b[0;32m      8\u001b[0m \u001b[0mprint\u001b[0m\u001b[1;33m(\u001b[0m\u001b[0mdf\u001b[0m\u001b[1;33m)\u001b[0m\u001b[1;33m\u001b[0m\u001b[1;33m\u001b[0m\u001b[0m\n",
      "\u001b[1;32m~\\Anaconda3\\lib\\site-packages\\pandas\\core\\generic.py\u001b[0m in \u001b[0;36mfilter\u001b[1;34m(self, items, like, regex, axis)\u001b[0m\n\u001b[0;32m   4974\u001b[0m         \u001b[1;32mif\u001b[0m \u001b[0mitems\u001b[0m \u001b[1;32mis\u001b[0m \u001b[1;32mnot\u001b[0m \u001b[1;32mNone\u001b[0m\u001b[1;33m:\u001b[0m\u001b[1;33m\u001b[0m\u001b[1;33m\u001b[0m\u001b[0m\n\u001b[0;32m   4975\u001b[0m             \u001b[0mname\u001b[0m \u001b[1;33m=\u001b[0m \u001b[0mself\u001b[0m\u001b[1;33m.\u001b[0m\u001b[0m_get_axis_name\u001b[0m\u001b[1;33m(\u001b[0m\u001b[0maxis\u001b[0m\u001b[1;33m)\u001b[0m\u001b[1;33m\u001b[0m\u001b[1;33m\u001b[0m\u001b[0m\n\u001b[1;32m-> 4976\u001b[1;33m             \u001b[1;32mreturn\u001b[0m \u001b[0mself\u001b[0m\u001b[1;33m.\u001b[0m\u001b[0mreindex\u001b[0m\u001b[1;33m(\u001b[0m\u001b[1;33m**\u001b[0m\u001b[1;33m{\u001b[0m\u001b[0mname\u001b[0m\u001b[1;33m:\u001b[0m \u001b[1;33m[\u001b[0m\u001b[0mr\u001b[0m \u001b[1;32mfor\u001b[0m \u001b[0mr\u001b[0m \u001b[1;32min\u001b[0m \u001b[0mitems\u001b[0m \u001b[1;32mif\u001b[0m \u001b[0mr\u001b[0m \u001b[1;32min\u001b[0m \u001b[0mlabels\u001b[0m\u001b[1;33m]\u001b[0m\u001b[1;33m}\u001b[0m\u001b[1;33m)\u001b[0m\u001b[1;33m\u001b[0m\u001b[1;33m\u001b[0m\u001b[0m\n\u001b[0m\u001b[0;32m   4977\u001b[0m         \u001b[1;32melif\u001b[0m \u001b[0mlike\u001b[0m\u001b[1;33m:\u001b[0m\u001b[1;33m\u001b[0m\u001b[1;33m\u001b[0m\u001b[0m\n\u001b[0;32m   4978\u001b[0m \u001b[1;33m\u001b[0m\u001b[0m\n",
      "\u001b[1;31mTypeError\u001b[0m: 'function' object is not iterable"
     ]
    }
   ],
   "source": [
    "df = pd.DataFrame(np.array([[3,5,6], [3,1,5], [5,4,1]]), columns=['a', 'b', 'c'])\n",
    "print(df)\n",
    "df[df.apply(lambda x:x%2 == 0)].sum(axis=1)\n",
    "print(df)\n",
    "df[df.apply(lambda x:x%2 == 1)].sum(axis=1)\n",
    "print(df)\n",
    "df.filter(lambda x:x%2==0).sum(axis=0)\n",
    "print(df)"
   ]
  },
  {
   "cell_type": "code",
   "execution_count": null,
   "id": "c62ba790",
   "metadata": {},
   "outputs": [],
   "source": []
  }
 ],
 "metadata": {
  "kernelspec": {
   "display_name": "Python 3",
   "language": "python",
   "name": "python3"
  },
  "language_info": {
   "codemirror_mode": {
    "name": "ipython",
    "version": 3
   },
   "file_extension": ".py",
   "mimetype": "text/x-python",
   "name": "python",
   "nbconvert_exporter": "python",
   "pygments_lexer": "ipython3",
   "version": "3.8.8"
  }
 },
 "nbformat": 4,
 "nbformat_minor": 5
}
